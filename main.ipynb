{
  "cells": [
    {
      "cell_type": "code",
      "execution_count": null,
      "metadata": {},
      "outputs": [],
      "source": [
        "!git clone --recursive https://github.com/procodingclass/Pro-M3-Hurricane-Damage-Dataset content"
      ]
    },
    {
      "cell_type": "code",
      "execution_count": null,
      "metadata": {},
      "outputs": [],
      "source": [
        "%pip install -r requirements.txt"
      ]
    },
    {
      "cell_type": "markdown",
      "metadata": {
        "id": "k5HIz63Y2nUk"
      },
      "source": [
        "Display first image from training dataset"
      ]
    },
    {
      "cell_type": "code",
      "execution_count": null,
      "metadata": {
        "colab": {
          "base_uri": "https://localhost:8080/",
          "height": 281
        },
        "id": "6ijFdUrDUVuq",
        "outputId": "f6c72d27-f8fd-47c8-b3c3-98eeb57df0e7"
      },
      "outputs": [],
      "source": [
        "#Display image\n",
        "from matplotlib import pyplot\n",
        "from matplotlib.image import imread\n",
        "\n",
        "training_damaged_image = \"./content/Pro-M3-Hurricane-Damage-Dataset/train/damage/image (1).jpeg\"\n",
        "\n",
        "# load image pixels\n",
        "image = imread(training_damaged_image)\n",
        "\n",
        "pyplot.title(\"damaged: Image 1\")\n",
        "\n",
        "# plot raw pixel data\n",
        "pyplot.imshow(image)\n",
        "\n",
        "# show the figure\n",
        "pyplot.show()"
      ]
    },
    {
      "cell_type": "markdown",
      "metadata": {
        "id": "esDB_i4S3Ju6"
      },
      "source": [
        "Perform augmentation on Training dataset"
      ]
    },
    {
      "cell_type": "code",
      "execution_count": null,
      "metadata": {
        "id": "1MJBT44rUgGO"
      },
      "outputs": [],
      "source": [
        "#zoom and horizontal flip (Or any augmentation technique of your choice)\n",
        "import tensorflow as tf\n",
        "from tensorflow.keras.preprocessing.image import ImageDataGenerator\n",
        "\n",
        "datagen = ImageDataGenerator(\n",
        "    zoom_range=0.3,\n",
        "    horizontal_flip=True,\n",
        "    fill_mode='nearest'\n",
        ")"
      ]
    },
    {
      "cell_type": "markdown",
      "metadata": {
        "id": "KwLb6Adv3RA-"
      },
      "source": [
        "Visualize the augmented images in four sub-plots"
      ]
    },
    {
      "cell_type": "code",
      "execution_count": null,
      "metadata": {
        "id": "2rG92dF1U9HE"
      },
      "outputs": [],
      "source": [
        "#Visualize the preprocessed image\n",
        "from matplotlib import pyplot\n",
        "from matplotlib.image import imread\n",
        "\n",
        "training_damaged_image = \"./content/Pro-M3-Hurricane-Damage-Dataset/train/damage/image (1).jpeg\"\n",
        "\n",
        "# load image pixels\n",
        "image = imread(training_damaged_image)\n",
        "\n",
        "# convert to numpy array\n",
        "data = tf.keras.preprocessing.image.img_to_array(image)\n",
        "\n",
        "# expand dimension to one sample\n",
        "samples = tf.expand_dims(data, 0)\n",
        "\n",
        "# prepare iterator\n",
        "it = datagen.flow(samples, batch_size=1)\n",
        "\n",
        "# generate samples and plot\n",
        "for i in range(9):\n",
        "    # define subplot\n",
        "    pyplot.subplot(330 + 1 + i)\n",
        "    # generate batch of images\n",
        "    batch = it.next()\n",
        "    # convert to unsigned integers for viewing\n",
        "    image = batch[0].astype('uint8')\n",
        "    # plot raw pixel data\n",
        "    pyplot.imshow(image)\n",
        "\n",
        "# show the figure\n",
        "pyplot.show()"
      ]
    }
  ],
  "metadata": {
    "colab": {
      "provenance": []
    },
    "kernelspec": {
      "display_name": "Python 3",
      "language": "python",
      "name": "python3"
    },
    "language_info": {
      "codemirror_mode": {
        "name": "ipython",
        "version": 3
      },
      "file_extension": ".py",
      "mimetype": "text/x-python",
      "name": "python",
      "nbconvert_exporter": "python",
      "pygments_lexer": "ipython3",
      "version": "3.10.9"
    },
    "vscode": {
      "interpreter": {
        "hash": "6519713a52c0e355c2ba206576fad89817126ecde05ea707be49a63cf04e56fb"
      }
    }
  },
  "nbformat": 4,
  "nbformat_minor": 0
}
